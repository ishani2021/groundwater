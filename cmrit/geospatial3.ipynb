{
 "cells": [
  {
   "cell_type": "code",
   "execution_count": 1,
   "id": "89c91c34",
   "metadata": {},
   "outputs": [
    {
     "name": "stdout",
     "output_type": "stream",
     "text": [
      "Requirement already satisfied: opencv-python in c:\\users\\ishan\\anaconda3\\lib\\site-packages (4.9.0.80)\n",
      "Requirement already satisfied: numpy>=1.21.2 in c:\\users\\ishan\\anaconda3\\lib\\site-packages (from opencv-python) (1.24.3)\n",
      "Requirement already satisfied: opencv-contrib-python in c:\\users\\ishan\\anaconda3\\lib\\site-packages (4.9.0.80)\n",
      "Requirement already satisfied: numpy>=1.21.2 in c:\\users\\ishan\\anaconda3\\lib\\site-packages (from opencv-contrib-python) (1.24.3)\n"
     ]
    }
   ],
   "source": [
    "!pip install opencv-python\n",
    "!pip install opencv-contrib-python\n",
    "import numpy as np\n",
    "import cv2\n",
    "\n",
    "# Load your image\n",
    "image = cv2.imread(\"1.jpg\")\n",
    "\n",
    "# Convert image to desired format (e.g., float32)\n",
    "image_data = image.astype(np.float32)\n",
    "\n",
    "# Reshape image data for KMeans (flatten each pixel into a row)\n",
    "image_data_reshaped = image_data.reshape((-1, 3))\n",
    "\n",
    "# Define the number of clusters (k) based on your data\n",
    "k = 6  # Adjust k based on your image complexity\n",
    "\n",
    "# Perform KMeans clustering\n",
    "criteria = (cv2.TERM_CRITERIA_EPS + cv2.TERM_CRITERIA_MAX_ITER, 10, 0.85)\n",
    "ret, labels, centers = cv2.kmeans(image_data_reshaped, k, None, criteria, 10, cv2.KMEANS_PP_CENTERS)\n",
    "\n",
    "# Reshape labels back to image dimensions\n",
    "labels_reshaped = labels.reshape(image.shape[:2])\n",
    "\n",
    "# Now labels_reshaped represents a 2D array where each pixel value corresponds to its cluster index (0, 1, 2, ...)"
   ]
  },
  {
   "cell_type": "code",
   "execution_count": 2,
   "id": "d8e877bb",
   "metadata": {},
   "outputs": [
    {
     "name": "stderr",
     "output_type": "stream",
     "text": [
      "C:\\Users\\ishan\\anaconda3\\Lib\\site-packages\\sklearn\\cluster\\_kmeans.py:1412: FutureWarning: The default value of `n_init` will change from 10 to 'auto' in 1.4. Set the value of `n_init` explicitly to suppress the warning\n",
      "  super()._check_params_vs_input(X, default_n_init=10)\n"
     ]
    }
   ],
   "source": [
    "from sklearn.cluster import KMeans\n",
    "\n",
    "# Load your image and convert to desired format (similar to OpenCV)\n",
    "\n",
    "# Reshape image data\n",
    "image_data_reshaped = image_data.reshape((-1, 3))\n",
    "\n",
    "# Define the number of clusters (k)\n",
    "k = 6  # Adjust k based on your image complexity\n",
    "\n",
    "# Perform KMeans clustering\n",
    "kmeans = KMeans(n_clusters=k, random_state=0)\n",
    "kmeans.fit(image_data_reshaped)\n",
    "labels = kmeans.labels_\n",
    "\n",
    "# Reshape labels back to image dimensions (similar to OpenCV)"
   ]
  },
  {
   "cell_type": "code",
   "execution_count": 3,
   "id": "9887b728",
   "metadata": {},
   "outputs": [],
   "source": [
    "import numpy as np\n",
    "\n",
    "# ... (image loading and segmentation code)\n",
    "\n",
    "# Create an empty dictionary to store pixels for each cluster\n",
    "cluster_pixels = {}\n",
    "for i in range(labels_reshaped.shape[0]):\n",
    "  for j in range(labels_reshaped.shape[1]):\n",
    "    cluster_id = labels_reshaped[i, j]\n",
    "    if cluster_id not in cluster_pixels:\n",
    "      cluster_pixels[cluster_id] = []\n",
    "    cluster_pixels[cluster_id].append(image[i,j].tolist())"
   ]
  },
  {
   "cell_type": "code",
   "execution_count": 6,
   "id": "b7988f2f",
   "metadata": {},
   "outputs": [
    {
     "data": {
      "text/plain": [
       "{'NotebookApp': {'iopub_data_rate_limit': 50000000, 'rate_limit_window': 10.0}}"
      ]
     },
     "execution_count": 6,
     "metadata": {},
     "output_type": "execute_result"
    }
   ],
   "source": [
    "from notebook.services.config import ConfigManager\n",
    "cm = ConfigManager()\n",
    "cm.update('notebook', {\n",
    "    'NotebookApp': {\n",
    "        'iopub_data_rate_limit': 50000000,\n",
    "        'rate_limit_window': 10.0\n",
    "    }\n",
    "})\n"
   ]
  },
  {
   "cell_type": "code",
   "execution_count": 7,
   "id": "0d77d22c",
   "metadata": {},
   "outputs": [
    {
     "name": "stderr",
     "output_type": "stream",
     "text": [
      "IOPub data rate exceeded.\n",
      "The notebook server will temporarily stop sending output\n",
      "to the client in order to avoid crashing it.\n",
      "To change this limit, set the config variable\n",
      "`--NotebookApp.iopub_data_rate_limit`.\n",
      "\n",
      "Current values:\n",
      "NotebookApp.iopub_data_rate_limit=1000000.0 (bytes/sec)\n",
      "NotebookApp.rate_limit_window=3.0 (secs)\n",
      "\n"
     ]
    }
   ],
   "source": [
    "# ... (image loading and segmentation code)\n",
    "\n",
    "# Create a list to store pixel values for each cluster\n",
    "cluster_pixels = [[] for _ in range(k)]\n",
    "\n",
    "# Iterate through pixels and labels, assigning pixels to clusters\n",
    "for i, pixel in enumerate(image_data):\n",
    "  cluster_pixels[labels[i]] += [pixel.tolist()]  # Append RGB values as a list\n",
    "\n",
    "print(cluster_pixels)  # List of lists containing pixels for each cluster"
   ]
  },
  {
   "cell_type": "code",
   "execution_count": null,
   "id": "42edc253",
   "metadata": {},
   "outputs": [],
   "source": []
  }
 ],
 "metadata": {
  "kernelspec": {
   "display_name": "Python 3 (ipykernel)",
   "language": "python",
   "name": "python3"
  },
  "language_info": {
   "codemirror_mode": {
    "name": "ipython",
    "version": 3
   },
   "file_extension": ".py",
   "mimetype": "text/x-python",
   "name": "python",
   "nbconvert_exporter": "python",
   "pygments_lexer": "ipython3",
   "version": "3.11.5"
  }
 },
 "nbformat": 4,
 "nbformat_minor": 5
}
